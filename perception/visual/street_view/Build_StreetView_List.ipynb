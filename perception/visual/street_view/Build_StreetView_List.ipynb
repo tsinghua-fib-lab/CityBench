{
 "cells": [
  {
   "cell_type": "code",
   "execution_count": null,
   "metadata": {},
   "outputs": [],
   "source": [
    "import os\n",
    "import pandas as pd\n",
    "\n",
    "for City in ['CapeTown', 'London', 'Moscow', 'Mumbai', 'Paris', 'SaoPaulo', 'Sydney', 'Tokyo', 'NewYork', 'SanFrancisco', 'Nairobi', 'Beijing', 'Shanghai']:\n",
    "    image_files = os.listdir(f\"/data1/ouyangtianjian/Gemini_GPT/{City}_CUT/\")\n",
    "\n",
    "    # Random sample 500 images for each city and get latitude & longitutde\n",
    "    city_data = {\n",
    "        \"img_name\": [img_name for img_name in image_files[:500]],\n",
    "        \"lat\": [img_name.split(\"&\")[1] for img_name in image_files[:500]], \n",
    "        \"lng\": [img_name.split(\"&\")[2] for img_name in image_files[:500]],\n",
    "    }\n",
    "\n",
    "    city_df = pd.DataFrame(city_data)\n",
    "    city_csv_path = f\"/data1/ouyangtianjian/Gemini_GPT/{City}_data.csv\"\n",
    "    city_df.to_csv(city_csv_path, index=False)"
   ]
  }
 ],
 "metadata": {
  "language_info": {
   "name": "python"
  }
 },
 "nbformat": 4,
 "nbformat_minor": 2
}
