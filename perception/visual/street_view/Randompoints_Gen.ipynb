{
 "cells": [
  {
   "cell_type": "code",
   "execution_count": 3,
   "metadata": {},
   "outputs": [],
   "source": [
    "import csv\n",
    "import random\n",
    "import ast\n",
    "import pandas as pd\n",
    "\n",
    "# latitude and longitude range box\n",
    "upper_lat = 37.8076\n",
    "lower_lat = 37.6153\n",
    "left_lon = -122.5099\n",
    "right_lon = -122.3630\n",
    "\n",
    "# random generate 10000 points in the box\n",
    "all_lon = []\n",
    "all_lat = []\n",
    "for _ in range(10000):\n",
    "    lon = random.uniform(left_lon, right_lon)\n",
    "    lat = random.uniform(lower_lat, upper_lat)\n",
    "    all_lon.append(lon)\n",
    "    all_lat.append(lat)\n",
    "\n",
    "# split all_lat and all_lon into 10 pieces\n",
    "all_lat = [all_lat[i:i + 1000] for i in range(0, len(all_lat), 1000)]\n",
    "all_lon = [all_lon[i:i + 1000] for i in range(0, len(all_lon), 1000)]\n",
    "\n",
    "# write data to csvv file\n",
    "with open('/root/Global_StreetView/random_points_SanFrancisco.csv', 'w', newline='') as csvfile:\n",
    "    fieldnames = ['Index', 'City', 'NEAR_X', 'NEAR_Y']\n",
    "    writer = csv.DictWriter(csvfile, fieldnames=fieldnames)\n",
    "    writer.writeheader()\n",
    "    for i in range(10):\n",
    "        writer.writerow({'Index': i, 'City': 'SanFrancisco_'+str(i), 'NEAR_X': all_lon[i], 'NEAR_Y': all_lat[i]})\n",
    "\n",
    "# Transform the string info to list\n",
    "csv_file_path = '/root/Global_StreetView/random_points_SanFrancisco.csv'\n",
    "df = pd.read_csv(csv_file_path)\n",
    "df['NEAR_X'] = df['NEAR_X'].apply(lambda x: ast.literal_eval(x))\n",
    "df['NEAR_Y'] = df['NEAR_Y'].apply(lambda x: ast.literal_eval(x))\n",
    "print(df['NEAR_X'])"
   ]
  }
 ],
 "metadata": {
  "kernelspec": {
   "display_name": "Python 3",
   "language": "python",
   "name": "python3"
  },
  "language_info": {
   "codemirror_mode": {
    "name": "ipython",
    "version": 3
   },
   "file_extension": ".py",
   "mimetype": "text/x-python",
   "name": "python",
   "nbconvert_exporter": "python",
   "pygments_lexer": "ipython3",
   "version": "3.10.12"
  }
 },
 "nbformat": 4,
 "nbformat_minor": 2
}
